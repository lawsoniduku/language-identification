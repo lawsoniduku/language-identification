{
 "cells": [
  {
   "cell_type": "markdown",
   "id": "612135e0",
   "metadata": {},
   "source": [
    "Honour Code\n",
    "I **Lawson Iduku**, confirm - by submitting this document - that the solutions in this notebook are a result of my own work and that I abide by the EDSA honour code. Non-compliance with the honour code constitutes a material breach of contract.\n",
    "\n",
    "Exam Overview: Language Identification Analysis 2022\n",
    "South Africa is a multicultural society that is characterised by its rich linguistic diversity. Language is an indispensable tool that can be used to deepen democracy and also contribute to the social, cultural, intellectual, economic and political life of the South African society.\n",
    "\n",
    "The country is multilingual with 11 official languages, each of which is guaranteed equal status. Most South Africans are multilingual and able to speak at least two or more of the official languages. With such a multilingual population, it is only obvious that our systems and devices also communicate in multi-languages.\n",
    "\n",
    "In this challenge, you will take text which is in any of South Africa's 11 Official languages and identify which language the text is in. This is an example of NLP's Language Identification, the task of determining the natural language that a piece of text is written in."
   ]
  },
  {
   "cell_type": "markdown",
   "id": "f5b08900-b5e3-4fa0-a2d2-c41ac14c69a8",
   "metadata": {},
   "source": [
    " <a id=\"one\"></a>\n",
    "## Importing Packages\n",
    "\n",
    "##### For this project, we will use the **train_set.csv** dataset.\n",
    "* ##### It contains the ID of 11 official languages  \n",
    "* ##### We want to accurately identify which language a text written in any of South Africa's 11 Official languages is."
   ]
  },
  {
   "cell_type": "code",
   "execution_count": 1,
   "id": "a9b95d37",
   "metadata": {},
   "outputs": [],
   "source": [
    "#Import necessary packages for the modeling\n",
    "import pandas as pd\n",
    "from sklearn.model_selection import train_test_split\n",
    "from sklearn.pipeline import Pipeline\n",
    "from sklearn.preprocessing import LabelEncoder\n",
    "from sklearn.naive_bayes import MultinomialNB\n",
    "from sklearn.feature_extraction.text import CountVectorizer\n",
    "from sklearn.metrics import f1_score, log_loss"
   ]
  },
  {
   "cell_type": "markdown",
   "id": "667e60a1-92a5-4854-b297-d0f0a75e5b69",
   "metadata": {},
   "source": [
    "## Loading the Data"
   ]
  },
  {
   "cell_type": "code",
   "execution_count": 2,
   "id": "9a2569f1",
   "metadata": {},
   "outputs": [],
   "source": [
    "train = pd.read_csv('train_set.csv')"
   ]
  },
  {
   "cell_type": "markdown",
   "id": "0d692bb2-eaa6-411c-a70c-c9f674b242a2",
   "metadata": {},
   "source": [
    " #### Let's read the data for exploration."
   ]
  },
  {
   "cell_type": "code",
   "execution_count": 3,
   "id": "8caccec9",
   "metadata": {},
   "outputs": [
    {
     "data": {
      "text/html": [
       "<div>\n",
       "<style scoped>\n",
       "    .dataframe tbody tr th:only-of-type {\n",
       "        vertical-align: middle;\n",
       "    }\n",
       "\n",
       "    .dataframe tbody tr th {\n",
       "        vertical-align: top;\n",
       "    }\n",
       "\n",
       "    .dataframe thead th {\n",
       "        text-align: right;\n",
       "    }\n",
       "</style>\n",
       "<table border=\"1\" class=\"dataframe\">\n",
       "  <thead>\n",
       "    <tr style=\"text-align: right;\">\n",
       "      <th></th>\n",
       "      <th>lang_id</th>\n",
       "      <th>text</th>\n",
       "    </tr>\n",
       "  </thead>\n",
       "  <tbody>\n",
       "    <tr>\n",
       "      <th>0</th>\n",
       "      <td>xho</td>\n",
       "      <td>umgaqo-siseko wenza amalungiselelo kumaziko ax...</td>\n",
       "    </tr>\n",
       "    <tr>\n",
       "      <th>1</th>\n",
       "      <td>xho</td>\n",
       "      <td>i-dha iya kuba nobulumko bokubeka umsebenzi na...</td>\n",
       "    </tr>\n",
       "    <tr>\n",
       "      <th>2</th>\n",
       "      <td>eng</td>\n",
       "      <td>the province of kwazulu-natal department of tr...</td>\n",
       "    </tr>\n",
       "    <tr>\n",
       "      <th>3</th>\n",
       "      <td>nso</td>\n",
       "      <td>o netefatša gore o ba file dilo ka moka tše le...</td>\n",
       "    </tr>\n",
       "    <tr>\n",
       "      <th>4</th>\n",
       "      <td>ven</td>\n",
       "      <td>khomishini ya ndinganyiso ya mbeu yo ewa maana...</td>\n",
       "    </tr>\n",
       "  </tbody>\n",
       "</table>\n",
       "</div>"
      ],
      "text/plain": [
       "  lang_id                                               text\n",
       "0     xho  umgaqo-siseko wenza amalungiselelo kumaziko ax...\n",
       "1     xho  i-dha iya kuba nobulumko bokubeka umsebenzi na...\n",
       "2     eng  the province of kwazulu-natal department of tr...\n",
       "3     nso  o netefatša gore o ba file dilo ka moka tše le...\n",
       "4     ven  khomishini ya ndinganyiso ya mbeu yo ewa maana..."
      ]
     },
     "execution_count": 3,
     "metadata": {},
     "output_type": "execute_result"
    }
   ],
   "source": [
    "train.head()"
   ]
  },
  {
   "cell_type": "markdown",
   "id": "e5474e3c-845a-448e-9eaa-944c28c48335",
   "metadata": {},
   "source": [
    "### Transforming the lang_id column into numerical value"
   ]
  },
  {
   "cell_type": "code",
   "execution_count": 4,
   "id": "7c7d0a6f",
   "metadata": {},
   "outputs": [],
   "source": [
    "#transform the lang_id column into numerical value\n",
    "lang = LabelEncoder()\n",
    "lang.fit(train.lang_id)\n",
    "train.lang_id = lang.transform(train.lang_id)"
   ]
  },
  {
   "cell_type": "code",
   "execution_count": 5,
   "id": "b70fcd24",
   "metadata": {},
   "outputs": [
    {
     "data": {
      "text/html": [
       "<div>\n",
       "<style scoped>\n",
       "    .dataframe tbody tr th:only-of-type {\n",
       "        vertical-align: middle;\n",
       "    }\n",
       "\n",
       "    .dataframe tbody tr th {\n",
       "        vertical-align: top;\n",
       "    }\n",
       "\n",
       "    .dataframe thead th {\n",
       "        text-align: right;\n",
       "    }\n",
       "</style>\n",
       "<table border=\"1\" class=\"dataframe\">\n",
       "  <thead>\n",
       "    <tr style=\"text-align: right;\">\n",
       "      <th></th>\n",
       "      <th>lang_id</th>\n",
       "      <th>text</th>\n",
       "    </tr>\n",
       "  </thead>\n",
       "  <tbody>\n",
       "    <tr>\n",
       "      <th>0</th>\n",
       "      <td>9</td>\n",
       "      <td>umgaqo-siseko wenza amalungiselelo kumaziko ax...</td>\n",
       "    </tr>\n",
       "    <tr>\n",
       "      <th>1</th>\n",
       "      <td>9</td>\n",
       "      <td>i-dha iya kuba nobulumko bokubeka umsebenzi na...</td>\n",
       "    </tr>\n",
       "    <tr>\n",
       "      <th>2</th>\n",
       "      <td>1</td>\n",
       "      <td>the province of kwazulu-natal department of tr...</td>\n",
       "    </tr>\n",
       "    <tr>\n",
       "      <th>3</th>\n",
       "      <td>3</td>\n",
       "      <td>o netefatša gore o ba file dilo ka moka tše le...</td>\n",
       "    </tr>\n",
       "    <tr>\n",
       "      <th>4</th>\n",
       "      <td>8</td>\n",
       "      <td>khomishini ya ndinganyiso ya mbeu yo ewa maana...</td>\n",
       "    </tr>\n",
       "  </tbody>\n",
       "</table>\n",
       "</div>"
      ],
      "text/plain": [
       "   lang_id                                               text\n",
       "0        9  umgaqo-siseko wenza amalungiselelo kumaziko ax...\n",
       "1        9  i-dha iya kuba nobulumko bokubeka umsebenzi na...\n",
       "2        1  the province of kwazulu-natal department of tr...\n",
       "3        3  o netefatša gore o ba file dilo ka moka tše le...\n",
       "4        8  khomishini ya ndinganyiso ya mbeu yo ewa maana..."
      ]
     },
     "execution_count": 5,
     "metadata": {},
     "output_type": "execute_result"
    }
   ],
   "source": [
    "train.head()"
   ]
  },
  {
   "cell_type": "markdown",
   "id": "33c93ede-0fad-4196-b843-bff9df14f055",
   "metadata": {},
   "source": [
    "### Extracting text feature"
   ]
  },
  {
   "cell_type": "code",
   "execution_count": 6,
   "id": "098399ea",
   "metadata": {},
   "outputs": [],
   "source": [
    "#create a bag of words for the data set that will be used for training\n",
    "vector = CountVectorizer()\n",
    "X_count = vector.fit_transform(train['text'])\n",
    "\n",
    "#splitting the data into features and label\n",
    "X = X_count\n",
    "y = train['lang_id']\n",
    "\n"
   ]
  },
  {
   "cell_type": "markdown",
   "id": "339c6589-9820-42cd-ba2b-907ffc857268",
   "metadata": {},
   "source": [
    "### Fitting the model"
   ]
  },
  {
   "cell_type": "code",
   "execution_count": 7,
   "id": "c5600521",
   "metadata": {},
   "outputs": [],
   "source": [
    "X_train, X_test, y_train, y_test = train_test_split(X, y, test_size=0.2, random_state = 47)\n",
    "\n",
    "#instantiate the naive_bayes object\n",
    "naive_bayes = MultinomialNB()\n",
    "naive_bayes.fit(X_train, y_train)\n",
    "predict = naive_bayes.predict(X_test)"
   ]
  },
  {
   "cell_type": "markdown",
   "id": "dd23f207-76df-445e-95a5-142bd10a9fa9",
   "metadata": {},
   "source": [
    "### Assess model performance\n",
    "Like before, let's have a look at the log loss\n"
   ]
  },
  {
   "cell_type": "code",
   "execution_count": 8,
   "id": "8290f6ad",
   "metadata": {},
   "outputs": [],
   "source": [
    "# Calculate the log loss (this was imported from sklearn above the topmost cell)\n",
    "y_hat = naive_bayes.predict_proba(X_test)"
   ]
  },
  {
   "cell_type": "code",
   "execution_count": 9,
   "id": "8f2c9a60",
   "metadata": {},
   "outputs": [],
   "source": [
    "score = f1_score(y_test, predict, average ='weighted')\n",
    "loss = log_loss(y_test, y_hat)"
   ]
  },
  {
   "cell_type": "code",
   "execution_count": 10,
   "id": "d2514f76-f8c3-4a37-99ac-4422e79a6753",
   "metadata": {},
   "outputs": [
    {
     "name": "stdout",
     "output_type": "stream",
     "text": [
      "the f1_score is: 0.999545454660823\n",
      "the log_loss is: 0.001273889969532281\n"
     ]
    }
   ],
   "source": [
    "print('the f1_score is: {}'.format(score))\n",
    "print('the log_loss is: {}'.format(loss))"
   ]
  },
  {
   "cell_type": "code",
   "execution_count": 11,
   "id": "060b3d12",
   "metadata": {},
   "outputs": [
    {
     "data": {
      "text/html": [
       "<div>\n",
       "<style scoped>\n",
       "    .dataframe tbody tr th:only-of-type {\n",
       "        vertical-align: middle;\n",
       "    }\n",
       "\n",
       "    .dataframe tbody tr th {\n",
       "        vertical-align: top;\n",
       "    }\n",
       "\n",
       "    .dataframe thead th {\n",
       "        text-align: right;\n",
       "    }\n",
       "</style>\n",
       "<table border=\"1\" class=\"dataframe\">\n",
       "  <thead>\n",
       "    <tr style=\"text-align: right;\">\n",
       "      <th></th>\n",
       "      <th>index</th>\n",
       "      <th>text</th>\n",
       "    </tr>\n",
       "  </thead>\n",
       "  <tbody>\n",
       "    <tr>\n",
       "      <th>0</th>\n",
       "      <td>1</td>\n",
       "      <td>Mmasepala, fa maemo a a kgethegileng a letlele...</td>\n",
       "    </tr>\n",
       "    <tr>\n",
       "      <th>1</th>\n",
       "      <td>2</td>\n",
       "      <td>Uzakwaziswa ngokufaneleko nakungafuneka eminye...</td>\n",
       "    </tr>\n",
       "    <tr>\n",
       "      <th>2</th>\n",
       "      <td>3</td>\n",
       "      <td>Tshivhumbeo tshi fana na ngano dza vhathu.</td>\n",
       "    </tr>\n",
       "    <tr>\n",
       "      <th>3</th>\n",
       "      <td>4</td>\n",
       "      <td>Kube inja nelikati betingevakala kutsi titsini...</td>\n",
       "    </tr>\n",
       "    <tr>\n",
       "      <th>4</th>\n",
       "      <td>5</td>\n",
       "      <td>Winste op buitelandse valuta.</td>\n",
       "    </tr>\n",
       "  </tbody>\n",
       "</table>\n",
       "</div>"
      ],
      "text/plain": [
       "   index                                               text\n",
       "0      1  Mmasepala, fa maemo a a kgethegileng a letlele...\n",
       "1      2  Uzakwaziswa ngokufaneleko nakungafuneka eminye...\n",
       "2      3         Tshivhumbeo tshi fana na ngano dza vhathu.\n",
       "3      4  Kube inja nelikati betingevakala kutsi titsini...\n",
       "4      5                      Winste op buitelandse valuta."
      ]
     },
     "execution_count": 11,
     "metadata": {},
     "output_type": "execute_result"
    }
   ],
   "source": [
    "#load the test data set\n",
    "test = pd.read_csv('test_set.csv')\n",
    "test.head()"
   ]
  },
  {
   "cell_type": "code",
   "execution_count": 12,
   "id": "f17403fb",
   "metadata": {},
   "outputs": [],
   "source": [
    "#transform the test data \n",
    "words = vector.transform(test['text'])"
   ]
  },
  {
   "cell_type": "code",
   "execution_count": 13,
   "id": "7cd86dc0",
   "metadata": {},
   "outputs": [],
   "source": [
    "y_pred = naive_bayes.predict(words)"
   ]
  },
  {
   "cell_type": "code",
   "execution_count": 14,
   "id": "852efc88",
   "metadata": {},
   "outputs": [],
   "source": [
    "outcome = list(lang.inverse_transform(y_pred))\n"
   ]
  },
  {
   "cell_type": "code",
   "execution_count": 15,
   "id": "5267ec9c",
   "metadata": {},
   "outputs": [],
   "source": [
    "index= test['index']"
   ]
  },
  {
   "cell_type": "code",
   "execution_count": 16,
   "id": "3b162cb6",
   "metadata": {},
   "outputs": [
    {
     "data": {
      "text/html": [
       "<div>\n",
       "<style scoped>\n",
       "    .dataframe tbody tr th:only-of-type {\n",
       "        vertical-align: middle;\n",
       "    }\n",
       "\n",
       "    .dataframe tbody tr th {\n",
       "        vertical-align: top;\n",
       "    }\n",
       "\n",
       "    .dataframe thead th {\n",
       "        text-align: right;\n",
       "    }\n",
       "</style>\n",
       "<table border=\"1\" class=\"dataframe\">\n",
       "  <thead>\n",
       "    <tr style=\"text-align: right;\">\n",
       "      <th></th>\n",
       "      <th>index</th>\n",
       "      <th>lang_id</th>\n",
       "    </tr>\n",
       "  </thead>\n",
       "  <tbody>\n",
       "    <tr>\n",
       "      <th>0</th>\n",
       "      <td>1</td>\n",
       "      <td>tsn</td>\n",
       "    </tr>\n",
       "    <tr>\n",
       "      <th>1</th>\n",
       "      <td>2</td>\n",
       "      <td>nbl</td>\n",
       "    </tr>\n",
       "    <tr>\n",
       "      <th>2</th>\n",
       "      <td>3</td>\n",
       "      <td>ven</td>\n",
       "    </tr>\n",
       "    <tr>\n",
       "      <th>3</th>\n",
       "      <td>4</td>\n",
       "      <td>ssw</td>\n",
       "    </tr>\n",
       "    <tr>\n",
       "      <th>4</th>\n",
       "      <td>5</td>\n",
       "      <td>afr</td>\n",
       "    </tr>\n",
       "  </tbody>\n",
       "</table>\n",
       "</div>"
      ],
      "text/plain": [
       "   index lang_id\n",
       "0      1     tsn\n",
       "1      2     nbl\n",
       "2      3     ven\n",
       "3      4     ssw\n",
       "4      5     afr"
      ]
     },
     "execution_count": 16,
     "metadata": {},
     "output_type": "execute_result"
    }
   ],
   "source": [
    "final_sub = pd.DataFrame(list(zip(index,  outcome)), columns = ['index', 'lang_id'])\n",
    "final_sub.head()"
   ]
  },
  {
   "cell_type": "code",
   "execution_count": 17,
   "id": "ecdea7cd",
   "metadata": {},
   "outputs": [],
   "source": [
    "final_sub.to_csv('my_submission.csv', index = False)"
   ]
  },
  {
   "cell_type": "markdown",
   "id": "9b8b45e1-50c6-4ca2-94f6-d05004c721fc",
   "metadata": {},
   "source": [
    "\n"
   ]
  }
 ],
 "metadata": {
  "kernelspec": {
   "display_name": "Python 3 (ipykernel)",
   "language": "python",
   "name": "python3"
  },
  "language_info": {
   "codemirror_mode": {
    "name": "ipython",
    "version": 3
   },
   "file_extension": ".py",
   "mimetype": "text/x-python",
   "name": "python",
   "nbconvert_exporter": "python",
   "pygments_lexer": "ipython3",
   "version": "3.9.12"
  }
 },
 "nbformat": 4,
 "nbformat_minor": 5
}
